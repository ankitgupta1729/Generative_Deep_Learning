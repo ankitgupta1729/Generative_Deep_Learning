{
 "cells": [
  {
   "cell_type": "code",
   "execution_count": 1,
   "metadata": {},
   "outputs": [
    {
     "name": "stderr",
     "output_type": "stream",
     "text": [
      "Using TensorFlow backend.\n"
     ]
    }
   ],
   "source": [
    "import numpy as np\n",
    "from keras.utils import to_categorical\n",
    "from keras.datasets import cifar10"
   ]
  },
  {
   "cell_type": "markdown",
   "metadata": {},
   "source": [
    "## Loading the dataset"
   ]
  },
  {
   "cell_type": "code",
   "execution_count": 2,
   "metadata": {},
   "outputs": [],
   "source": [
    "(x_train,y_train),(x_test,y_test)=cifar10.load_data()"
   ]
  },
  {
   "cell_type": "code",
   "execution_count": 4,
   "metadata": {},
   "outputs": [
    {
     "data": {
      "text/plain": [
       "(50000, 32, 32, 3)"
      ]
     },
     "execution_count": 4,
     "metadata": {},
     "output_type": "execute_result"
    }
   ],
   "source": [
    "x_train.shape"
   ]
  },
  {
   "cell_type": "code",
   "execution_count": 5,
   "metadata": {},
   "outputs": [
    {
     "data": {
      "text/plain": [
       "(50000, 1)"
      ]
     },
     "execution_count": 5,
     "metadata": {},
     "output_type": "execute_result"
    }
   ],
   "source": [
    "y_train.shape"
   ]
  },
  {
   "cell_type": "code",
   "execution_count": 6,
   "metadata": {},
   "outputs": [
    {
     "data": {
      "text/plain": [
       "(10000, 32, 32, 3)"
      ]
     },
     "execution_count": 6,
     "metadata": {},
     "output_type": "execute_result"
    }
   ],
   "source": [
    "x_test.shape"
   ]
  },
  {
   "cell_type": "code",
   "execution_count": 7,
   "metadata": {},
   "outputs": [
    {
     "data": {
      "text/plain": [
       "(10000, 1)"
      ]
     },
     "execution_count": 7,
     "metadata": {},
     "output_type": "execute_result"
    }
   ],
   "source": [
    "y_test.shape"
   ]
  },
  {
   "cell_type": "code",
   "execution_count": 8,
   "metadata": {},
   "outputs": [],
   "source": [
    "NUM_CLASSES=10"
   ]
  },
  {
   "cell_type": "code",
   "execution_count": 9,
   "metadata": {},
   "outputs": [],
   "source": [
    "x_train=x_train.astype('float32')/255.0\n",
    "x_test=x_test.astype('float32')/255.0"
   ]
  },
  {
   "cell_type": "code",
   "execution_count": 10,
   "metadata": {},
   "outputs": [],
   "source": [
    "y_train=to_categorical(y_train,NUM_CLASSES)\n",
    "y_test=to_categorical(y_test,NUM_CLASSES)"
   ]
  },
  {
   "cell_type": "code",
   "execution_count": 11,
   "metadata": {},
   "outputs": [
    {
     "data": {
      "text/plain": [
       "(50000, 10)"
      ]
     },
     "execution_count": 11,
     "metadata": {},
     "output_type": "execute_result"
    }
   ],
   "source": [
    "y_train.shape"
   ]
  },
  {
   "cell_type": "code",
   "execution_count": 12,
   "metadata": {},
   "outputs": [
    {
     "data": {
      "text/plain": [
       "(10000, 10)"
      ]
     },
     "execution_count": 12,
     "metadata": {},
     "output_type": "execute_result"
    }
   ],
   "source": [
    "y_test.shape"
   ]
  },
  {
   "cell_type": "code",
   "execution_count": 15,
   "metadata": {},
   "outputs": [
    {
     "data": {
      "text/plain": [
       "(3, 1, 2, 3, 2)"
      ]
     },
     "execution_count": 15,
     "metadata": {},
     "output_type": "execute_result"
    }
   ],
   "source": [
    "np.array([[[[[1,2],[2,3],[6,7]],[[8,9],[1,2],[4,1]]]],[[[[1,2],[2,3],[6,7]],[[8,9],[1,2],[4,1]]]],[[[[1,2],[2,3],[6,7]],[[8,9],[1,2],[4,1]]]]]).shape"
   ]
  },
  {
   "cell_type": "code",
   "execution_count": 16,
   "metadata": {},
   "outputs": [
    {
     "data": {
      "text/plain": [
       "0.39607844"
      ]
     },
     "execution_count": 16,
     "metadata": {},
     "output_type": "execute_result"
    }
   ],
   "source": [
    "x_train[27][21][20][1]"
   ]
  },
  {
   "cell_type": "code",
   "execution_count": 17,
   "metadata": {},
   "outputs": [
    {
     "data": {
      "text/plain": [
       "0.39607844"
      ]
     },
     "execution_count": 17,
     "metadata": {},
     "output_type": "execute_result"
    }
   ],
   "source": [
    "x_train[27,21,20,1]"
   ]
  },
  {
   "cell_type": "code",
   "execution_count": 18,
   "metadata": {},
   "outputs": [
    {
     "data": {
      "text/plain": [
       "0.36862746"
      ]
     },
     "execution_count": 18,
     "metadata": {},
     "output_type": "execute_result"
    }
   ],
   "source": [
    "x_train[54, 12, 13, 1]"
   ]
  },
  {
   "cell_type": "code",
   "execution_count": 25,
   "metadata": {},
   "outputs": [
    {
     "data": {
      "text/plain": [
       "array([0., 0., 0., 0., 0., 0., 1., 0., 0., 0.], dtype=float32)"
      ]
     },
     "execution_count": 25,
     "metadata": {},
     "output_type": "execute_result"
    }
   ],
   "source": [
    "y_train[0]"
   ]
  },
  {
   "cell_type": "markdown",
   "metadata": {},
   "source": [
    "## Building the Model"
   ]
  },
  {
   "cell_type": "code",
   "execution_count": 30,
   "metadata": {},
   "outputs": [],
   "source": [
    "# architecture\n",
    "# using Functional API\n",
    "from keras.layers import Input, Flatten,Dense\n",
    "from keras.models import Model\n",
    "input_layer= Input(shape=(32,32,3))\n",
    "x=Flatten()(input_layer)\n",
    "x=Dense(units=200,activation='relu')(x)\n",
    "x=Dense(units=150,activation='relu')(x)\n",
    "output_layer=Dense(units=10,activation='softmax')(x)\n",
    "model=Model(input_layer,output_layer)"
   ]
  },
  {
   "cell_type": "code",
   "execution_count": 31,
   "metadata": {},
   "outputs": [
    {
     "name": "stdout",
     "output_type": "stream",
     "text": [
      "_________________________________________________________________\n",
      "Layer (type)                 Output Shape              Param #   \n",
      "=================================================================\n",
      "input_3 (InputLayer)         (None, 32, 32, 3)         0         \n",
      "_________________________________________________________________\n",
      "flatten_4 (Flatten)          (None, 3072)              0         \n",
      "_________________________________________________________________\n",
      "dense_9 (Dense)              (None, 200)               614600    \n",
      "_________________________________________________________________\n",
      "dense_10 (Dense)             (None, 150)               30150     \n",
      "_________________________________________________________________\n",
      "dense_11 (Dense)             (None, 10)                1510      \n",
      "=================================================================\n",
      "Total params: 646,260\n",
      "Trainable params: 646,260\n",
      "Non-trainable params: 0\n",
      "_________________________________________________________________\n"
     ]
    }
   ],
   "source": [
    "model.summary()"
   ]
  },
  {
   "cell_type": "code",
   "execution_count": 32,
   "metadata": {},
   "outputs": [],
   "source": [
    "# compiling the model\n",
    "from keras.optimizers import Adam\n",
    "opt = Adam(lr=0.0005)\n",
    "model.compile(loss='categorical_crossentropy',optimizer=opt,metrics=['accuracy'])"
   ]
  },
  {
   "cell_type": "code",
   "execution_count": 33,
   "metadata": {},
   "outputs": [
    {
     "name": "stdout",
     "output_type": "stream",
     "text": [
      "Epoch 1/10\n",
      "50000/50000 [==============================] - 4s 84us/step - loss: 1.9006 - acc: 0.3186\n",
      "Epoch 2/10\n",
      "50000/50000 [==============================] - 4s 80us/step - loss: 1.7156 - acc: 0.3945: 2s - loss: 1.7448 - ETA: 1s - lo\n",
      "Epoch 3/10\n",
      "50000/50000 [==============================] - 4s 88us/step - loss: 1.6301 - acc: 0.4240\n",
      "Epoch 4/10\n",
      "50000/50000 [==============================] - 5s 93us/step - loss: 1.5808 - acc: 0.4407\n",
      "Epoch 5/10\n",
      "50000/50000 [==============================] - 4s 81us/step - loss: 1.5373 - acc: 0.4568\n",
      "Epoch 6/10\n",
      "50000/50000 [==============================] - 4s 79us/step - loss: 1.5039 - acc: 0.4681\n",
      "Epoch 7/10\n",
      "50000/50000 [==============================] - 4s 87us/step - loss: 1.4810 - acc: 0.4756\n",
      "Epoch 8/10\n",
      "50000/50000 [==============================] - 5s 92us/step - loss: 1.4530 - acc: 0.4858\n",
      "Epoch 9/10\n",
      "50000/50000 [==============================] - 4s 80us/step - loss: 1.4262 - acc: 0.4950\n",
      "Epoch 10/10\n",
      "50000/50000 [==============================] - 4s 81us/step - loss: 1.4109 - acc: 0.5022: 1s - loss: 1.4151 - - ETA: 0s - loss: 1.4118 \n"
     ]
    },
    {
     "data": {
      "text/plain": [
       "<keras.callbacks.History at 0x27d9e94a160>"
      ]
     },
     "execution_count": 33,
     "metadata": {},
     "output_type": "execute_result"
    }
   ],
   "source": [
    "# training the model\n",
    "model.fit(x_train,y_train,batch_size=256,epochs=10,shuffle=True)"
   ]
  },
  {
   "cell_type": "code",
   "execution_count": 34,
   "metadata": {},
   "outputs": [
    {
     "name": "stdout",
     "output_type": "stream",
     "text": [
      "10000/10000 [==============================] - 1s 72us/step\n"
     ]
    },
    {
     "data": {
      "text/plain": [
       "[1.470635634803772, 0.4702]"
      ]
     },
     "execution_count": 34,
     "metadata": {},
     "output_type": "execute_result"
    }
   ],
   "source": [
    "# evaluating the model\n",
    "model.evaluate(x_test,y_test)"
   ]
  },
  {
   "cell_type": "code",
   "execution_count": 35,
   "metadata": {},
   "outputs": [],
   "source": [
    "# prediction\n",
    "CLASSES= np.array(['airplane','automobile','bird','cat','deer','dog','frog','horse','ship','truck'])\n",
    "preds=model.predict(x_test)\n",
    "preds_single=CLASSES[np.argmax(preds,axis=-1)]\n",
    "actual_single=CLASSES[np.argmax(y_test,axis=-1)]"
   ]
  },
  {
   "cell_type": "code",
   "execution_count": 36,
   "metadata": {},
   "outputs": [
    {
     "data": {
      "text/plain": [
       "array(['cat', 'truck', 'ship', ..., 'cat', 'dog', 'horse'], dtype='<U10')"
      ]
     },
     "execution_count": 36,
     "metadata": {},
     "output_type": "execute_result"
    }
   ],
   "source": [
    "preds_single"
   ]
  },
  {
   "cell_type": "code",
   "execution_count": 37,
   "metadata": {},
   "outputs": [
    {
     "data": {
      "text/plain": [
       "array(['cat', 'ship', 'ship', ..., 'dog', 'automobile', 'horse'],\n",
       "      dtype='<U10')"
      ]
     },
     "execution_count": 37,
     "metadata": {},
     "output_type": "execute_result"
    }
   ],
   "source": [
    "actual_single"
   ]
  },
  {
   "cell_type": "code",
   "execution_count": 40,
   "metadata": {},
   "outputs": [
    {
     "data": {
      "image/png": "[encoded data removed]",
      "text/plain": [
       "<Figure size 1080x216 with 10 Axes>"
      ]
     },
     "metadata": {
      "needs_background": "light"
     },
     "output_type": "display_data"
    }
   ],
   "source": [
    "#plot\n",
    "import matplotlib.pyplot as plt\n",
    "n_to_show=10\n",
    "indices=np.random.choice(range(len(x_test)),n_to_show)\n",
    "fig=plt.figure(figsize=(15,3))\n",
    "fig.subplots_adjust(hspace=0.4,wspace=0.4)\n",
    "for i,idx in enumerate(indices):\n",
    "    img=x_test[idx]\n",
    "    ax=fig.add_subplot(1,n_to_show,i+1)\n",
    "    ax.axis('off')\n",
    "    ax.text(0.5,-0.35,'pred='+str(preds_single[idx]),fontsize=10,ha='center',transform=ax.transAxes)\n",
    "    ax.text(0.5,-0.7,'act='+str(actual_single[idx]),fontsize=10,ha='center',transform=ax.transAxes)\n",
    "    ax.imshow(img)"
   ]
  },
  {
   "cell_type": "markdown",
   "metadata": {},
   "source": [
    "## Improving the model"
   ]
  },
  {
   "cell_type": "code",
   "execution_count": 42,
   "metadata": {},
   "outputs": [
    {
     "name": "stderr",
     "output_type": "stream",
     "text": [
      "W0528 14:54:16.112307 18012 deprecation_wrapper.py:119] From C:\\Users\\ankit19.gupta\\ankit\\ankit\\ML_Code\\GenerativeDeepLearning\\myenv\\lib\\site-packages\\keras\\backend\\tensorflow_backend.py:1834: The name tf.nn.fused_batch_norm is deprecated. Please use tf.compat.v1.nn.fused_batch_norm instead.\n",
      "\n",
      "W0528 14:54:16.804731 18012 deprecation.py:506] From C:\\Users\\ankit19.gupta\\ankit\\ankit\\ML_Code\\GenerativeDeepLearning\\myenv\\lib\\site-packages\\keras\\backend\\tensorflow_backend.py:3445: calling dropout (from tensorflow.python.ops.nn_ops) with keep_prob is deprecated and will be removed in a future version.\n",
      "Instructions for updating:\n",
      "Please use `rate` instead of `keep_prob`. Rate should be set to `rate = 1 - keep_prob`.\n"
     ]
    }
   ],
   "source": [
    "from keras.layers import Conv2D, BatchNormalization, LeakyReLU, Dropout, Activation\n",
    "input_layer=Input(shape=(32,32,3))\n",
    "x=Conv2D(filters=32,kernel_size=3,strides=1,padding='same')(input_layer)\n",
    "x=BatchNormalization()(x)\n",
    "x=LeakyReLU()(x)\n",
    "x=Conv2D(filters=32,kernel_size=3,strides=2,padding='same')(x)\n",
    "x=BatchNormalization()(x)\n",
    "x=LeakyReLU()(x)\n",
    "x=Conv2D(filters=64,kernel_size=3,strides=1,padding='same')(x)\n",
    "x=BatchNormalization()(x)\n",
    "x=LeakyReLU()(x)\n",
    "x=Conv2D(filters=64,kernel_size=3,strides=2,padding='same')(x)\n",
    "x=BatchNormalization()(x)\n",
    "x=LeakyReLU()(x)\n",
    "x=Flatten()(x)\n",
    "x=Dense(128)(x)\n",
    "x=BatchNormalization()(x)\n",
    "x=LeakyReLU()(x)\n",
    "x=Dropout(rate=0.5)(x)\n",
    "x=Dense(NUM_CLASSES)(x)\n",
    "output_layer=Activation('softmax')(x)\n",
    "model=Model(input_layer,output_layer)"
   ]
  },
  {
   "cell_type": "code",
   "execution_count": 43,
   "metadata": {},
   "outputs": [
    {
     "name": "stdout",
     "output_type": "stream",
     "text": [
      "_________________________________________________________________\n",
      "Layer (type)                 Output Shape              Param #   \n",
      "=================================================================\n",
      "input_5 (InputLayer)         (None, 32, 32, 3)         0         \n",
      "_________________________________________________________________\n",
      "conv2d_2 (Conv2D)            (None, 32, 32, 32)        896       \n",
      "_________________________________________________________________\n",
      "batch_normalization_1 (Batch (None, 32, 32, 32)        128       \n",
      "_________________________________________________________________\n",
      "leaky_re_lu_1 (LeakyReLU)    (None, 32, 32, 32)        0         \n",
      "_________________________________________________________________\n",
      "conv2d_3 (Conv2D)            (None, 16, 16, 32)        9248      \n",
      "_________________________________________________________________\n",
      "batch_normalization_2 (Batch (None, 16, 16, 32)        128       \n",
      "_________________________________________________________________\n",
      "leaky_re_lu_2 (LeakyReLU)    (None, 16, 16, 32)        0         \n",
      "_________________________________________________________________\n",
      "conv2d_4 (Conv2D)            (None, 16, 16, 64)        18496     \n",
      "_________________________________________________________________\n",
      "batch_normalization_3 (Batch (None, 16, 16, 64)        256       \n",
      "_________________________________________________________________\n",
      "leaky_re_lu_3 (LeakyReLU)    (None, 16, 16, 64)        0         \n",
      "_________________________________________________________________\n",
      "conv2d_5 (Conv2D)            (None, 8, 8, 64)          36928     \n",
      "_________________________________________________________________\n",
      "batch_normalization_4 (Batch (None, 8, 8, 64)          256       \n",
      "_________________________________________________________________\n",
      "leaky_re_lu_4 (LeakyReLU)    (None, 8, 8, 64)          0         \n",
      "_________________________________________________________________\n",
      "flatten_5 (Flatten)          (None, 4096)              0         \n",
      "_________________________________________________________________\n",
      "dense_12 (Dense)             (None, 128)               524416    \n",
      "_________________________________________________________________\n",
      "batch_normalization_5 (Batch (None, 128)               512       \n",
      "_________________________________________________________________\n",
      "leaky_re_lu_5 (LeakyReLU)    (None, 128)               0         \n",
      "_________________________________________________________________\n",
      "dropout_1 (Dropout)          (None, 128)               0         \n",
      "_________________________________________________________________\n",
      "dense_13 (Dense)             (None, 10)                1290      \n",
      "_________________________________________________________________\n",
      "activation_1 (Activation)    (None, 10)                0         \n",
      "=================================================================\n",
      "Total params: 592,554\n",
      "Trainable params: 591,914\n",
      "Non-trainable params: 640\n",
      "_________________________________________________________________\n"
     ]
    }
   ],
   "source": [
    "model.summary()"
   ]
  },
  {
   "cell_type": "code",
   "execution_count": 44,
   "metadata": {},
   "outputs": [],
   "source": [
    "# compiling the model\n",
    "from keras.optimizers import Adam\n",
    "opt = Adam(lr=0.0005)\n",
    "model.compile(loss='categorical_crossentropy',optimizer=opt,metrics=['accuracy'])"
   ]
  },
  {
   "cell_type": "code",
   "execution_count": 45,
   "metadata": {},
   "outputs": [
    {
     "name": "stdout",
     "output_type": "stream",
     "text": [
      "Epoch 1/10\n",
      "50000/50000 [==============================] - 386s 8ms/step - loss: 1.7004 - acc: 0.4164\n",
      "Epoch 2/10\n",
      "50000/50000 [==============================] - 232s 5ms/step - loss: 1.2666 - acc: 0.5504\n",
      "Epoch 3/10\n",
      "50000/50000 [==============================] - 200s 4ms/step - loss: 1.0962 - acc: 0.6130\n",
      "Epoch 4/10\n",
      "50000/50000 [==============================] - 198s 4ms/step - loss: 0.9814 - acc: 0.6531\n",
      "Epoch 5/10\n",
      "50000/50000 [==============================] - 199s 4ms/step - loss: 0.9105 - acc: 0.6812\n",
      "Epoch 6/10\n",
      "50000/50000 [==============================] - 191s 4ms/step - loss: 0.8478 - acc: 0.7049\n",
      "Epoch 7/10\n",
      "50000/50000 [==============================] - 195s 4ms/step - loss: 0.7972 - acc: 0.7212\n",
      "Epoch 8/10\n",
      "50000/50000 [==============================] - 195s 4ms/step - loss: 0.7483 - acc: 0.7381\n",
      "Epoch 9/10\n",
      "50000/50000 [==============================] - 199s 4ms/step - loss: 0.7101 - acc: 0.7493\n",
      "Epoch 10/10\n",
      "50000/50000 [==============================] - 197s 4ms/step - loss: 0.6690 - acc: 0.7650\n"
     ]
    },
    {
     "data": {
      "text/plain": [
       "<keras.callbacks.History at 0x27dba7bbda0>"
      ]
     },
     "execution_count": 45,
     "metadata": {},
     "output_type": "execute_result"
    }
   ],
   "source": [
    "# training the model\n",
    "model.fit(x_train,y_train,batch_size=256,epochs=10,shuffle=True)"
   ]
  },
  {
   "cell_type": "code",
   "execution_count": 46,
   "metadata": {},
   "outputs": [
    {
     "name": "stdout",
     "output_type": "stream",
     "text": [
      "10000/10000 [==============================] - 10s 986us/step\n"
     ]
    },
    {
     "data": {
      "text/plain": [
       "[0.9757179856300354, 0.669099998474121]"
      ]
     },
     "execution_count": 46,
     "metadata": {},
     "output_type": "execute_result"
    }
   ],
   "source": [
    "model.evaluate(x_test,y_test,batch_size=1000)"
   ]
  },
  {
   "cell_type": "code",
   "execution_count": null,
   "metadata": {},
   "outputs": [],
   "source": [
    "# prediction\n",
    "CLASSES= np.array(['airplane','automobile','bird','cat','deer','dog','frog','horse','ship','truck'])\n",
    "preds=model.predict(x_test)\n",
    "preds_single=CLASSES[np.argmax(preds,axis=-1)]\n",
    "actual_single=CLASSES[np.argmax(y_test,axis=-1)]"
   ]
  },
  {
   "cell_type": "code",
   "execution_count": 47,
   "metadata": {},
   "outputs": [
    {
     "data": {
      "image/png": "[encoded data removed]",
      "text/plain": [
       "<Figure size 1080x216 with 10 Axes>"
      ]
     },
     "metadata": {
      "needs_background": "light"
     },
     "output_type": "display_data"
    }
   ],
   "source": [
    "#plot\n",
    "import matplotlib.pyplot as plt\n",
    "n_to_show=10\n",
    "indices=np.random.choice(range(len(x_test)),n_to_show)\n",
    "fig=plt.figure(figsize=(15,3))\n",
    "fig.subplots_adjust(hspace=0.4,wspace=0.4)\n",
    "for i,idx in enumerate(indices):\n",
    "    img=x_test[idx]\n",
    "    ax=fig.add_subplot(1,n_to_show,i+1)\n",
    "    ax.axis('off')\n",
    "    ax.text(0.5,-0.35,'pred='+str(preds_single[idx]),fontsize=10,ha='center',transform=ax.transAxes)\n",
    "    ax.text(0.5,-0.7,'act='+str(actual_single[idx]),fontsize=10,ha='center',transform=ax.transAxes)\n",
    "    ax.imshow(img)"
   ]
  },
  {
   "cell_type": "code",
   "execution_count": null,
   "metadata": {},
   "outputs": [],
   "source": []
  }
 ],
 "metadata": {
  "kernelspec": {
   "display_name": "Python 3",
   "language": "python",
   "name": "python3"
  },
  "language_info": {
   "codemirror_mode": {
    "name": "ipython",
    "version": 3
   },
   "file_extension": ".py",
   "mimetype": "text/x-python",
   "name": "python",
   "nbconvert_exporter": "python",
   "pygments_lexer": "ipython3",
   "version": "3.6.13"
  }
 },
 "nbformat": 4,
 "nbformat_minor": 2
}
